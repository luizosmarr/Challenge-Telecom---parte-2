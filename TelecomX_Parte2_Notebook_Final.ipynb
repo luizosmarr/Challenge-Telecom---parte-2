{
  "cells": [
    {
      "cell_type": "markdown",
      "metadata": {},
      "source": [
        "# 📊 Telecom X - Predição de Evasão de Clientes (Parte 2)\n",
        "\n",
        "Este notebook contém a **Parte 2** do desafio da Telecom X: construção de modelos preditivos para prever a evasão de clientes.\n",
        "\n",
        "---"
      ]
    },
    {
      "cell_type": "code",
      "execution_count": null,
      "metadata": {},
      "outputs": [],
      "source": [
        "import pandas as pd\n",
        "import numpy as np\n",
        "import matplotlib.pyplot as plt\n",
        "import seaborn as sns\n",
        "from sklearn.model_selection import train_test_split\n",
        "from sklearn.preprocessing import StandardScaler\n",
        "from sklearn.linear_model import LogisticRegression\n",
        "from sklearn.ensemble import RandomForestClassifier\n",
        "from sklearn.metrics import classification_report, confusion_matrix, ConfusionMatrixDisplay\n",
        "from imblearn.over_sampling import SMOTE\n",
        "\n",
        "import warnings\n",
        "warnings.filterwarnings('ignore')"
      ]
    },
    {
      "cell_type": "markdown",
      "metadata": {},
      "source": [
        "## 1. Carregar os dados tratados"
      ]
    },
    {
      "cell_type": "code",
      "execution_count": null,
      "metadata": {},
      "outputs": [],
      "source": [
        "df = pd.read_csv('TelecomX_limpo.csv')\n",
        "df.head()"
      ]
    },
    {
      "cell_type": "markdown",
      "metadata": {},
      "source": [
        "## 2. Pré-processamento dos dados"
      ]
    },
    {
      "cell_type": "code",
      "execution_count": null,
      "metadata": {},
      "outputs": [],
      "source": [
        "# Remover colunas irrelevantes\n",
        "if 'customerID' in df.columns:\n",
        "    df = df.drop(columns=['customerID'])\n",
        "\n",
        "# One-hot encoding para variáveis categóricas\n",
        "df = pd.get_dummies(df, drop_first=True)\n",
        "\n",
        "df.head()"
      ]
    },
    {
      "cell_type": "markdown",
      "metadata": {},
      "source": [
        "## 3. Balanceamento das classes"
      ]
    },
    {
      "cell_type": "code",
      "execution_count": null,
      "metadata": {},
      "outputs": [],
      "source": [
        "X = df.drop('Churn_Yes', axis=1)\n",
        "y = df['Churn_Yes']\n",
        "\n",
        "print('Proporção de classes:')\n",
        "print(y.value_counts(normalize=True))\n",
        "\n",
        "# Aplicar SMOTE\n",
        "sm = SMOTE(random_state=42)\n",
        "X_res, y_res = sm.fit_resample(X, y)\n",
        "\n",
        "print('\\nApós SMOTE:')\n",
        "print(y_res.value_counts(normalize=True))"
      ]
    },
    {
      "cell_type": "markdown",
      "metadata": {},
      "source": [
        "## 4. Divisão treino/teste"
      ]
    },
    {
      "cell_type": "code",
      "execution_count": null,
      "metadata": {},
      "outputs": [],
      "source": [
        "X_train, X_test, y_train, y_test = train_test_split(X_res, y_res, test_size=0.3, random_state=42, stratify=y_res)\n",
        "X_train.shape, X_test.shape"
      ]
    },
    {
      "cell_type": "markdown",
      "metadata": {},
      "source": [
        "## 5. Modelagem\n",
        "\n",
        "Treinaremos dois modelos:\n",
        "- Regressão Logística (com normalização)\n",
        "- Random Forest (sem normalização)"
      ]
    },
    {
      "cell_type": "code",
      "execution_count": null,
      "metadata": {},
      "outputs": [],
      "source": [
        "# Normalização para modelos baseados em distância\n",
        "scaler = StandardScaler()\n",
        "X_train_scaled = scaler.fit_transform(X_train)\n",
        "X_test_scaled = scaler.transform(X_test)\n",
        "\n",
        "# Regressão Logística\n",
        "logreg = LogisticRegression(max_iter=1000)\n",
        "logreg.fit(X_train_scaled, y_train)\n",
        "y_pred_log = logreg.predict(X_test_scaled)\n",
        "\n",
        "# Random Forest\n",
        "rf = RandomForestClassifier(random_state=42, n_estimators=200)\n",
        "rf.fit(X_train, y_train)\n",
        "y_pred_rf = rf.predict(X_test)"
      ]
    },
    {
      "cell_type": "markdown",
      "metadata": {},
      "source": [
        "## 6. Avaliação dos modelos"
      ]
    },
    {
      "cell_type": "code",
      "execution_count": null,
      "metadata": {},
      "outputs": [],
      "source": [
        "print('--- Regressão Logística ---')\n",
        "print(classification_report(y_test, y_pred_log))\n",
        "ConfusionMatrixDisplay(confusion_matrix(y_test, y_pred_log)).plot()\n",
        "plt.show()\n",
        "\n",
        "print('--- Random Forest ---')\n",
        "print(classification_report(y_test, y_pred_rf))\n",
        "ConfusionMatrixDisplay(confusion_matrix(y_test, y_pred_rf)).plot()\n",
        "plt.show()"
      ]
    },
    {
      "cell_type": "markdown",
      "metadata": {},
      "source": [
        "## 7. Importância das variáveis"
      ]
    },
    {
      "cell_type": "code",
      "execution_count": null,
      "metadata": {},
      "outputs": [],
      "source": [
        "importances = pd.Series(rf.feature_importances_, index=X_train.columns)\n",
        "importances.sort_values(ascending=False).head(10).plot(kind='bar', figsize=(10,5))\n",
        "plt.title('Top 10 Variáveis mais importantes - Random Forest')\n",
        "plt.show()"
      ]
    }
  ],
  "metadata": {
    "kernelspec": {
      "display_name": "Python 3",
      "language": "python",
      "name": "python3"
    },
    "language_info": {
      "name": "python",
      "version": "3.9"
    }
  },
  "nbformat": 4,
  "nbformat_minor": 5
}